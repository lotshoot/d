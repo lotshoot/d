{
  "nbformat": 4,
  "nbformat_minor": 0,
  "metadata": {
    "colab": {
      "provenance": []
    },
    "kernelspec": {
      "name": "python3",
      "display_name": "Python 3"
    },
    "language_info": {
      "name": "python"
    }
  },
  "cells": [
    {
      "cell_type": "code",
      "execution_count": 4,
      "metadata": {
        "colab": {
          "base_uri": "https://localhost:8080/"
        },
        "id": "Wo3k9LO7J2Q9",
        "outputId": "b42cbf81-4c47-4d6e-a3a3-556da89830e6"
      },
      "outputs": [
        {
          "output_type": "stream",
          "name": "stdout",
          "text": [
            "Matrix Multiplication Demo\n",
            "tf.Tensor(\n",
            "[[1 2 3]\n",
            " [4 5 6]], shape=(2, 3), dtype=int32)\n",
            "tf.Tensor(\n",
            "[[ 7  8]\n",
            " [ 9 10]\n",
            " [11 12]], shape=(3, 2), dtype=int32)\n",
            "Product: tf.Tensor(\n",
            "[[ 58  64]\n",
            " [139 154]], shape=(2, 2), dtype=int32)\n",
            "Matrix A:\n",
            "[[5.83766   5.4438167]\n",
            " [5.0965724 7.6962066]]\n",
            "\n",
            "\n",
            "Eigen Vectors:\n",
            "[[-0.7679113 -0.6405561]\n",
            " [ 0.6405561 -0.7679113]]\n",
            "\n",
            "Eigen Values:\n",
            "[ 1.5863347 11.94753  ]\n",
            "\n"
          ]
        }
      ],
      "source": [
        "#!pip3 install tensorflow\n",
        "\n",
        "import tensorflow as tf\n",
        "print(\"Matrix Multiplication Demo\")\n",
        "x=tf.constant([1,2,3,4,5,6],shape=[2,3])\n",
        "print(x)\n",
        "y=tf.constant([7,8,9,10,11,12],shape=[3,2])\n",
        "print(y)\n",
        "z=tf.matmul(x,y)\n",
        "print(\"Product:\",z)\n",
        "e_matrix_A=tf.random.uniform([2,2],minval=3,maxval=10,dtype=tf.float32,name=\"matrixA\")\n",
        "print(\"Matrix A:\\n{}\\n\\n\".format(e_matrix_A))\n",
        "eigen_values_A,eigen_vectors_A=tf.linalg.eigh(e_matrix_A)\n",
        "print(\"Eigen Vectors:\\n{}\\n\\nEigen Values:\\n{}\\n\".format(eigen_vectors_A,eigen_values_A))"
      ]
    }
  ]
}