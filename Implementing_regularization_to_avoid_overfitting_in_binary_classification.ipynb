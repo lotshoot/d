{
  "nbformat": 4,
  "nbformat_minor": 0,
  "metadata": {
    "colab": {
      "provenance": []
    },
    "kernelspec": {
      "name": "python3",
      "display_name": "Python 3"
    },
    "language_info": {
      "name": "python"
    }
  },
  "cells": [
    {
      "cell_type": "code",
      "execution_count": null,
      "metadata": {
        "id": "UVj_MVQ7ZkMX"
      },
      "outputs": [],
      "source": [
        "from matplotlib import pyplot\n",
        "from sklearn.datasets import make_moons\n",
        "from keras.models import Sequential\n",
        "from keras.layers import Dense"
      ]
    },
    {
      "cell_type": "code",
      "source": [
        "X,Y=make_moons(n_samples=100,noise=0.2,random_state=1)\n",
        "n_train=30\n",
        "trainX,testX=X[:n_train,:],X[n_train:]\n",
        "trainY,testY=Y[:n_train],Y[n_train:]"
      ],
      "metadata": {
        "id": "9EePHG3eZqOi"
      },
      "execution_count": null,
      "outputs": []
    },
    {
      "cell_type": "code",
      "source": [
        "print(trainX.shape)\n",
        "print(trainY.shape)\n",
        "print(testX.shape)\n",
        "print(testY.shape)"
      ],
      "metadata": {
        "colab": {
          "base_uri": "https://localhost:8080/"
        },
        "id": "4xGU-eDgZtca",
        "outputId": "34d0b04c-b36a-4a07-f969-23675fa7393d"
      },
      "execution_count": null,
      "outputs": [
        {
          "output_type": "stream",
          "name": "stdout",
          "text": [
            "(30, 2)\n",
            "(30,)\n",
            "(70, 2)\n",
            "(70,)\n"
          ]
        }
      ]
    },
    {
      "cell_type": "code",
      "source": [
        "model=Sequential()\n",
        "model.add(Dense(500,input_dim=2,activation='relu'))\n",
        "model.add(Dense(1,activation='sigmoid'))\n",
        "model.compile(loss='binary_crossentropy',optimizer='adam',metrics=['accuracy'])"
      ],
      "metadata": {
        "id": "oYS3gTWeZvAJ"
      },
      "execution_count": null,
      "outputs": []
    },
    {
      "cell_type": "code",
      "source": [
        "model.summary()"
      ],
      "metadata": {
        "colab": {
          "base_uri": "https://localhost:8080/"
        },
        "id": "pkfqI_p6ZxFZ",
        "outputId": "0193e7b8-3b4b-4190-9d6e-60ce1f65e896"
      },
      "execution_count": null,
      "outputs": [
        {
          "output_type": "stream",
          "name": "stdout",
          "text": [
            "Model: \"sequential\"\n",
            "_________________________________________________________________\n",
            " Layer (type)                Output Shape              Param #   \n",
            "=================================================================\n",
            " dense (Dense)               (None, 500)               1500      \n",
            "                                                                 \n",
            " dense_1 (Dense)             (None, 1)                 501       \n",
            "                                                                 \n",
            "=================================================================\n",
            "Total params: 2001 (7.82 KB)\n",
            "Trainable params: 2001 (7.82 KB)\n",
            "Non-trainable params: 0 (0.00 Byte)\n",
            "_________________________________________________________________\n"
          ]
        }
      ]
    },
    {
      "cell_type": "code",
      "source": [
        "history=model.fit(trainX,trainY,validation_data=(testX,testY),epochs=100)"
      ],
      "metadata": {
        "colab": {
          "base_uri": "https://localhost:8080/"
        },
        "id": "Rtu0R44lZ1n6",
        "outputId": "ed0ba44e-1797-422a-e148-3f5fdd7d5926"
      },
      "execution_count": null,
      "outputs": [
        {
          "output_type": "stream",
          "name": "stdout",
          "text": [
            "Epoch 1/100\n",
            "1/1 [==============================] - 1s 1s/step - loss: 0.7125 - accuracy: 0.1333 - val_loss: 0.6994 - val_accuracy: 0.2714\n",
            "Epoch 2/100\n",
            "1/1 [==============================] - 0s 47ms/step - loss: 0.6957 - accuracy: 0.3667 - val_loss: 0.6884 - val_accuracy: 0.5857\n",
            "Epoch 3/100\n",
            "1/1 [==============================] - 0s 39ms/step - loss: 0.6794 - accuracy: 0.8000 - val_loss: 0.6778 - val_accuracy: 0.6286\n",
            "Epoch 4/100\n",
            "1/1 [==============================] - 0s 42ms/step - loss: 0.6635 - accuracy: 0.8667 - val_loss: 0.6675 - val_accuracy: 0.6857\n",
            "Epoch 5/100\n",
            "1/1 [==============================] - 0s 43ms/step - loss: 0.6481 - accuracy: 0.8333 - val_loss: 0.6577 - val_accuracy: 0.6857\n",
            "Epoch 6/100\n",
            "1/1 [==============================] - 0s 55ms/step - loss: 0.6331 - accuracy: 0.8333 - val_loss: 0.6482 - val_accuracy: 0.6857\n",
            "Epoch 7/100\n",
            "1/1 [==============================] - 0s 169ms/step - loss: 0.6186 - accuracy: 0.8333 - val_loss: 0.6391 - val_accuracy: 0.6857\n",
            "Epoch 8/100\n",
            "1/1 [==============================] - 0s 131ms/step - loss: 0.6045 - accuracy: 0.8333 - val_loss: 0.6303 - val_accuracy: 0.6857\n",
            "Epoch 9/100\n",
            "1/1 [==============================] - 0s 78ms/step - loss: 0.5908 - accuracy: 0.8667 - val_loss: 0.6218 - val_accuracy: 0.7143\n",
            "Epoch 10/100\n",
            "1/1 [==============================] - 0s 154ms/step - loss: 0.5775 - accuracy: 0.8667 - val_loss: 0.6136 - val_accuracy: 0.7143\n",
            "Epoch 11/100\n",
            "1/1 [==============================] - 0s 69ms/step - loss: 0.5645 - accuracy: 0.8667 - val_loss: 0.6058 - val_accuracy: 0.7143\n",
            "Epoch 12/100\n",
            "1/1 [==============================] - 0s 199ms/step - loss: 0.5520 - accuracy: 0.8667 - val_loss: 0.5982 - val_accuracy: 0.7143\n",
            "Epoch 13/100\n",
            "1/1 [==============================] - 0s 173ms/step - loss: 0.5399 - accuracy: 0.8667 - val_loss: 0.5910 - val_accuracy: 0.7143\n",
            "Epoch 14/100\n",
            "1/1 [==============================] - 0s 83ms/step - loss: 0.5281 - accuracy: 0.8667 - val_loss: 0.5840 - val_accuracy: 0.7143\n",
            "Epoch 15/100\n",
            "1/1 [==============================] - 0s 46ms/step - loss: 0.5166 - accuracy: 0.8667 - val_loss: 0.5772 - val_accuracy: 0.7143\n",
            "Epoch 16/100\n",
            "1/1 [==============================] - 0s 42ms/step - loss: 0.5055 - accuracy: 0.8667 - val_loss: 0.5708 - val_accuracy: 0.7143\n",
            "Epoch 17/100\n",
            "1/1 [==============================] - 0s 42ms/step - loss: 0.4947 - accuracy: 0.8667 - val_loss: 0.5646 - val_accuracy: 0.7143\n",
            "Epoch 18/100\n",
            "1/1 [==============================] - 0s 59ms/step - loss: 0.4841 - accuracy: 0.8667 - val_loss: 0.5586 - val_accuracy: 0.7143\n",
            "Epoch 19/100\n",
            "1/1 [==============================] - 0s 58ms/step - loss: 0.4739 - accuracy: 0.8667 - val_loss: 0.5529 - val_accuracy: 0.7143\n",
            "Epoch 20/100\n",
            "1/1 [==============================] - 0s 45ms/step - loss: 0.4640 - accuracy: 0.8667 - val_loss: 0.5475 - val_accuracy: 0.7143\n",
            "Epoch 21/100\n",
            "1/1 [==============================] - 0s 55ms/step - loss: 0.4543 - accuracy: 0.8667 - val_loss: 0.5422 - val_accuracy: 0.7143\n",
            "Epoch 22/100\n",
            "1/1 [==============================] - 0s 43ms/step - loss: 0.4449 - accuracy: 0.8667 - val_loss: 0.5371 - val_accuracy: 0.7143\n",
            "Epoch 23/100\n",
            "1/1 [==============================] - 0s 56ms/step - loss: 0.4358 - accuracy: 0.8667 - val_loss: 0.5323 - val_accuracy: 0.7143\n",
            "Epoch 24/100\n",
            "1/1 [==============================] - 0s 40ms/step - loss: 0.4269 - accuracy: 0.8667 - val_loss: 0.5277 - val_accuracy: 0.7143\n",
            "Epoch 25/100\n",
            "1/1 [==============================] - 0s 57ms/step - loss: 0.4183 - accuracy: 0.8667 - val_loss: 0.5232 - val_accuracy: 0.7143\n",
            "Epoch 26/100\n",
            "1/1 [==============================] - 0s 55ms/step - loss: 0.4098 - accuracy: 0.8667 - val_loss: 0.5190 - val_accuracy: 0.7143\n",
            "Epoch 27/100\n",
            "1/1 [==============================] - 0s 41ms/step - loss: 0.4017 - accuracy: 0.8667 - val_loss: 0.5149 - val_accuracy: 0.7143\n",
            "Epoch 28/100\n",
            "1/1 [==============================] - 0s 39ms/step - loss: 0.3937 - accuracy: 0.8667 - val_loss: 0.5110 - val_accuracy: 0.7143\n",
            "Epoch 29/100\n",
            "1/1 [==============================] - 0s 43ms/step - loss: 0.3860 - accuracy: 0.8667 - val_loss: 0.5073 - val_accuracy: 0.7143\n",
            "Epoch 30/100\n",
            "1/1 [==============================] - 0s 39ms/step - loss: 0.3785 - accuracy: 0.9000 - val_loss: 0.5037 - val_accuracy: 0.7143\n",
            "Epoch 31/100\n",
            "1/1 [==============================] - 0s 56ms/step - loss: 0.3713 - accuracy: 0.9000 - val_loss: 0.5003 - val_accuracy: 0.7286\n",
            "Epoch 32/100\n",
            "1/1 [==============================] - 0s 56ms/step - loss: 0.3643 - accuracy: 0.9000 - val_loss: 0.4970 - val_accuracy: 0.7286\n",
            "Epoch 33/100\n",
            "1/1 [==============================] - 0s 51ms/step - loss: 0.3574 - accuracy: 0.9000 - val_loss: 0.4939 - val_accuracy: 0.7286\n",
            "Epoch 34/100\n",
            "1/1 [==============================] - 0s 45ms/step - loss: 0.3508 - accuracy: 0.9000 - val_loss: 0.4910 - val_accuracy: 0.7286\n",
            "Epoch 35/100\n",
            "1/1 [==============================] - 0s 42ms/step - loss: 0.3445 - accuracy: 0.9000 - val_loss: 0.4882 - val_accuracy: 0.7286\n",
            "Epoch 36/100\n",
            "1/1 [==============================] - 0s 52ms/step - loss: 0.3383 - accuracy: 0.9000 - val_loss: 0.4856 - val_accuracy: 0.7286\n",
            "Epoch 37/100\n",
            "1/1 [==============================] - 0s 39ms/step - loss: 0.3323 - accuracy: 0.9000 - val_loss: 0.4830 - val_accuracy: 0.7286\n",
            "Epoch 38/100\n",
            "1/1 [==============================] - 0s 40ms/step - loss: 0.3265 - accuracy: 0.9000 - val_loss: 0.4807 - val_accuracy: 0.7286\n",
            "Epoch 39/100\n",
            "1/1 [==============================] - 0s 39ms/step - loss: 0.3209 - accuracy: 0.9000 - val_loss: 0.4784 - val_accuracy: 0.7286\n",
            "Epoch 40/100\n",
            "1/1 [==============================] - 0s 54ms/step - loss: 0.3155 - accuracy: 0.9000 - val_loss: 0.4762 - val_accuracy: 0.7286\n",
            "Epoch 41/100\n",
            "1/1 [==============================] - 0s 40ms/step - loss: 0.3103 - accuracy: 0.9000 - val_loss: 0.4742 - val_accuracy: 0.7286\n",
            "Epoch 42/100\n",
            "1/1 [==============================] - 0s 41ms/step - loss: 0.3053 - accuracy: 0.9000 - val_loss: 0.4723 - val_accuracy: 0.7286\n",
            "Epoch 43/100\n",
            "1/1 [==============================] - 0s 55ms/step - loss: 0.3005 - accuracy: 0.9000 - val_loss: 0.4704 - val_accuracy: 0.7286\n",
            "Epoch 44/100\n",
            "1/1 [==============================] - 0s 55ms/step - loss: 0.2958 - accuracy: 0.9000 - val_loss: 0.4687 - val_accuracy: 0.7286\n",
            "Epoch 45/100\n",
            "1/1 [==============================] - 0s 39ms/step - loss: 0.2913 - accuracy: 0.9000 - val_loss: 0.4670 - val_accuracy: 0.7286\n",
            "Epoch 46/100\n",
            "1/1 [==============================] - 0s 41ms/step - loss: 0.2870 - accuracy: 0.9333 - val_loss: 0.4655 - val_accuracy: 0.7286\n",
            "Epoch 47/100\n",
            "1/1 [==============================] - 0s 55ms/step - loss: 0.2828 - accuracy: 0.9333 - val_loss: 0.4640 - val_accuracy: 0.7286\n",
            "Epoch 48/100\n",
            "1/1 [==============================] - 0s 56ms/step - loss: 0.2788 - accuracy: 0.9333 - val_loss: 0.4626 - val_accuracy: 0.7286\n",
            "Epoch 49/100\n",
            "1/1 [==============================] - 0s 55ms/step - loss: 0.2750 - accuracy: 0.9333 - val_loss: 0.4612 - val_accuracy: 0.7286\n",
            "Epoch 50/100\n",
            "1/1 [==============================] - 0s 40ms/step - loss: 0.2713 - accuracy: 0.9333 - val_loss: 0.4600 - val_accuracy: 0.7286\n",
            "Epoch 51/100\n",
            "1/1 [==============================] - 0s 43ms/step - loss: 0.2677 - accuracy: 0.9333 - val_loss: 0.4588 - val_accuracy: 0.7286\n",
            "Epoch 52/100\n",
            "1/1 [==============================] - 0s 58ms/step - loss: 0.2643 - accuracy: 0.9000 - val_loss: 0.4576 - val_accuracy: 0.7286\n",
            "Epoch 53/100\n",
            "1/1 [==============================] - 0s 42ms/step - loss: 0.2610 - accuracy: 0.9000 - val_loss: 0.4565 - val_accuracy: 0.7286\n",
            "Epoch 54/100\n",
            "1/1 [==============================] - 0s 43ms/step - loss: 0.2579 - accuracy: 0.9000 - val_loss: 0.4555 - val_accuracy: 0.7286\n",
            "Epoch 55/100\n",
            "1/1 [==============================] - 0s 55ms/step - loss: 0.2549 - accuracy: 0.9000 - val_loss: 0.4545 - val_accuracy: 0.7286\n",
            "Epoch 56/100\n",
            "1/1 [==============================] - 0s 41ms/step - loss: 0.2520 - accuracy: 0.9000 - val_loss: 0.4535 - val_accuracy: 0.7286\n",
            "Epoch 57/100\n",
            "1/1 [==============================] - 0s 55ms/step - loss: 0.2492 - accuracy: 0.9000 - val_loss: 0.4526 - val_accuracy: 0.7286\n",
            "Epoch 58/100\n",
            "1/1 [==============================] - 0s 41ms/step - loss: 0.2465 - accuracy: 0.9000 - val_loss: 0.4518 - val_accuracy: 0.7286\n",
            "Epoch 59/100\n",
            "1/1 [==============================] - 0s 40ms/step - loss: 0.2439 - accuracy: 0.9000 - val_loss: 0.4510 - val_accuracy: 0.7286\n",
            "Epoch 60/100\n",
            "1/1 [==============================] - 0s 42ms/step - loss: 0.2415 - accuracy: 0.9000 - val_loss: 0.4502 - val_accuracy: 0.7286\n",
            "Epoch 61/100\n",
            "1/1 [==============================] - 0s 59ms/step - loss: 0.2391 - accuracy: 0.9000 - val_loss: 0.4494 - val_accuracy: 0.7286\n",
            "Epoch 62/100\n",
            "1/1 [==============================] - 0s 66ms/step - loss: 0.2368 - accuracy: 0.9000 - val_loss: 0.4486 - val_accuracy: 0.7286\n",
            "Epoch 63/100\n",
            "1/1 [==============================] - 0s 55ms/step - loss: 0.2346 - accuracy: 0.9000 - val_loss: 0.4479 - val_accuracy: 0.7429\n",
            "Epoch 64/100\n",
            "1/1 [==============================] - 0s 54ms/step - loss: 0.2325 - accuracy: 0.9000 - val_loss: 0.4472 - val_accuracy: 0.7429\n",
            "Epoch 65/100\n",
            "1/1 [==============================] - 0s 44ms/step - loss: 0.2304 - accuracy: 0.9000 - val_loss: 0.4465 - val_accuracy: 0.7429\n",
            "Epoch 66/100\n",
            "1/1 [==============================] - 0s 41ms/step - loss: 0.2285 - accuracy: 0.9000 - val_loss: 0.4459 - val_accuracy: 0.7429\n",
            "Epoch 67/100\n",
            "1/1 [==============================] - 0s 62ms/step - loss: 0.2266 - accuracy: 0.9000 - val_loss: 0.4452 - val_accuracy: 0.7429\n",
            "Epoch 68/100\n",
            "1/1 [==============================] - 0s 61ms/step - loss: 0.2248 - accuracy: 0.9000 - val_loss: 0.4446 - val_accuracy: 0.7429\n",
            "Epoch 69/100\n",
            "1/1 [==============================] - 0s 61ms/step - loss: 0.2230 - accuracy: 0.9000 - val_loss: 0.4440 - val_accuracy: 0.7429\n",
            "Epoch 70/100\n",
            "1/1 [==============================] - 0s 73ms/step - loss: 0.2213 - accuracy: 0.9000 - val_loss: 0.4434 - val_accuracy: 0.7429\n",
            "Epoch 71/100\n",
            "1/1 [==============================] - 0s 76ms/step - loss: 0.2197 - accuracy: 0.9000 - val_loss: 0.4428 - val_accuracy: 0.7429\n",
            "Epoch 72/100\n",
            "1/1 [==============================] - 0s 66ms/step - loss: 0.2181 - accuracy: 0.9000 - val_loss: 0.4422 - val_accuracy: 0.7429\n",
            "Epoch 73/100\n",
            "1/1 [==============================] - 0s 72ms/step - loss: 0.2166 - accuracy: 0.9000 - val_loss: 0.4417 - val_accuracy: 0.7429\n",
            "Epoch 74/100\n",
            "1/1 [==============================] - 0s 76ms/step - loss: 0.2151 - accuracy: 0.9000 - val_loss: 0.4411 - val_accuracy: 0.7429\n",
            "Epoch 75/100\n",
            "1/1 [==============================] - 0s 75ms/step - loss: 0.2137 - accuracy: 0.9000 - val_loss: 0.4406 - val_accuracy: 0.7429\n",
            "Epoch 76/100\n",
            "1/1 [==============================] - 0s 75ms/step - loss: 0.2123 - accuracy: 0.9000 - val_loss: 0.4400 - val_accuracy: 0.7429\n",
            "Epoch 77/100\n",
            "1/1 [==============================] - 0s 57ms/step - loss: 0.2110 - accuracy: 0.9000 - val_loss: 0.4395 - val_accuracy: 0.7429\n",
            "Epoch 78/100\n",
            "1/1 [==============================] - 0s 71ms/step - loss: 0.2097 - accuracy: 0.9000 - val_loss: 0.4390 - val_accuracy: 0.7429\n",
            "Epoch 79/100\n",
            "1/1 [==============================] - 0s 69ms/step - loss: 0.2085 - accuracy: 0.9000 - val_loss: 0.4384 - val_accuracy: 0.7429\n",
            "Epoch 80/100\n",
            "1/1 [==============================] - 0s 68ms/step - loss: 0.2073 - accuracy: 0.9000 - val_loss: 0.4379 - val_accuracy: 0.7429\n",
            "Epoch 81/100\n",
            "1/1 [==============================] - 0s 63ms/step - loss: 0.2061 - accuracy: 0.9000 - val_loss: 0.4373 - val_accuracy: 0.7429\n",
            "Epoch 82/100\n",
            "1/1 [==============================] - 0s 64ms/step - loss: 0.2050 - accuracy: 0.9000 - val_loss: 0.4368 - val_accuracy: 0.7429\n",
            "Epoch 83/100\n",
            "1/1 [==============================] - 0s 52ms/step - loss: 0.2039 - accuracy: 0.9000 - val_loss: 0.4362 - val_accuracy: 0.7429\n",
            "Epoch 84/100\n",
            "1/1 [==============================] - 0s 64ms/step - loss: 0.2028 - accuracy: 0.9000 - val_loss: 0.4356 - val_accuracy: 0.7429\n",
            "Epoch 85/100\n",
            "1/1 [==============================] - 0s 73ms/step - loss: 0.2017 - accuracy: 0.9000 - val_loss: 0.4351 - val_accuracy: 0.7429\n",
            "Epoch 86/100\n",
            "1/1 [==============================] - 0s 62ms/step - loss: 0.2007 - accuracy: 0.9000 - val_loss: 0.4345 - val_accuracy: 0.7429\n",
            "Epoch 87/100\n",
            "1/1 [==============================] - 0s 70ms/step - loss: 0.1997 - accuracy: 0.9000 - val_loss: 0.4339 - val_accuracy: 0.7429\n",
            "Epoch 88/100\n",
            "1/1 [==============================] - 0s 68ms/step - loss: 0.1988 - accuracy: 0.9000 - val_loss: 0.4332 - val_accuracy: 0.7429\n",
            "Epoch 89/100\n",
            "1/1 [==============================] - 0s 68ms/step - loss: 0.1979 - accuracy: 0.9000 - val_loss: 0.4326 - val_accuracy: 0.7429\n",
            "Epoch 90/100\n",
            "1/1 [==============================] - 0s 59ms/step - loss: 0.1969 - accuracy: 0.9000 - val_loss: 0.4320 - val_accuracy: 0.7429\n",
            "Epoch 91/100\n",
            "1/1 [==============================] - 0s 73ms/step - loss: 0.1961 - accuracy: 0.9000 - val_loss: 0.4313 - val_accuracy: 0.7429\n",
            "Epoch 92/100\n",
            "1/1 [==============================] - 0s 54ms/step - loss: 0.1952 - accuracy: 0.9000 - val_loss: 0.4307 - val_accuracy: 0.7429\n",
            "Epoch 93/100\n",
            "1/1 [==============================] - 0s 70ms/step - loss: 0.1943 - accuracy: 0.9000 - val_loss: 0.4300 - val_accuracy: 0.7429\n",
            "Epoch 94/100\n",
            "1/1 [==============================] - 0s 55ms/step - loss: 0.1935 - accuracy: 0.9000 - val_loss: 0.4293 - val_accuracy: 0.7429\n",
            "Epoch 95/100\n",
            "1/1 [==============================] - 0s 76ms/step - loss: 0.1927 - accuracy: 0.9000 - val_loss: 0.4286 - val_accuracy: 0.7429\n",
            "Epoch 96/100\n",
            "1/1 [==============================] - 0s 68ms/step - loss: 0.1919 - accuracy: 0.9000 - val_loss: 0.4279 - val_accuracy: 0.7429\n",
            "Epoch 97/100\n",
            "1/1 [==============================] - 0s 78ms/step - loss: 0.1911 - accuracy: 0.9000 - val_loss: 0.4271 - val_accuracy: 0.7429\n",
            "Epoch 98/100\n",
            "1/1 [==============================] - 0s 69ms/step - loss: 0.1903 - accuracy: 0.9000 - val_loss: 0.4264 - val_accuracy: 0.7429\n",
            "Epoch 99/100\n",
            "1/1 [==============================] - 0s 67ms/step - loss: 0.1896 - accuracy: 0.9000 - val_loss: 0.4256 - val_accuracy: 0.7429\n",
            "Epoch 100/100\n",
            "1/1 [==============================] - 0s 67ms/step - loss: 0.1888 - accuracy: 0.9000 - val_loss: 0.4249 - val_accuracy: 0.7429\n"
          ]
        }
      ]
    },
    {
      "cell_type": "code",
      "source": [
        "pyplot.plot(history.history['accuracy'],label='train')\n",
        "pyplot.plot(history.history['val_accuracy'],label='test')\n",
        "pyplot.legend()\n",
        "pyplot.show()"
      ],
      "metadata": {
        "colab": {
          "base_uri": "https://localhost:8080/",
          "height": 430
        },
        "id": "7zV_GwfqZ28J",
        "outputId": "b4c8aa23-e8e1-420a-f6bd-423ec139d901"
      },
      "execution_count": null,
      "outputs": [
        {
          "output_type": "display_data",
          "data": {
            "text/plain": [
              "<Figure size 640x480 with 1 Axes>"
            ],
            "image/png": "[encoded data removed]"
          },
          "metadata": {}
        }
      ]
    },
    {
      "cell_type": "code",
      "source": [
        "from keras.regularizers import l2"
      ],
      "metadata": {
        "id": "smpHQ9vxZ8jP"
      },
      "execution_count": null,
      "outputs": []
    },
    {
      "cell_type": "code",
      "source": [
        "model=Sequential()\n",
        "model.add(Dense(500,input_dim=2,activation='relu',kernel_regularizer=l2(0.001)))\n",
        "model.add(Dense(1,activation='sigmoid'))"
      ],
      "metadata": {
        "id": "UAbNsrBeZ_OR"
      },
      "execution_count": null,
      "outputs": []
    },
    {
      "cell_type": "code",
      "source": [
        "model.summary()"
      ],
      "metadata": {
        "colab": {
          "base_uri": "https://localhost:8080/"
        },
        "id": "N7I0Ti0iaCLP",
        "outputId": "7cda1a28-78bf-494e-fdc8-1e28fe5c78f4"
      },
      "execution_count": null,
      "outputs": [
        {
          "output_type": "stream",
          "name": "stdout",
          "text": [
            "Model: \"sequential_1\"\n",
            "_________________________________________________________________\n",
            " Layer (type)                Output Shape              Param #   \n",
            "=================================================================\n",
            " dense_2 (Dense)             (None, 500)               1500      \n",
            "                                                                 \n",
            " dense_3 (Dense)             (None, 1)                 501       \n",
            "                                                                 \n",
            "=================================================================\n",
            "Total params: 2001 (7.82 KB)\n",
            "Trainable params: 2001 (7.82 KB)\n",
            "Non-trainable params: 0 (0.00 Byte)\n",
            "_________________________________________________________________\n"
          ]
        }
      ]
    },
    {
      "cell_type": "code",
      "source": [
        "model.compile(loss='binary_crossentropy',optimizer='adam',metrics=['accuracy'])"
      ],
      "metadata": {
        "id": "WIPzc1hVaFmf"
      },
      "execution_count": null,
      "outputs": []
    },
    {
      "cell_type": "code",
      "source": [
        "history=model.fit(trainX,trainY,validation_data=(testX,testY),epochs=100)"
      ],
      "metadata": {
        "colab": {
          "base_uri": "https://localhost:8080/"
        },
        "id": "BNbHTPAaaHJj",
        "outputId": "a63ca31e-0a12-41a6-8112-e3ef9a08a348"
      },
      "execution_count": null,
      "outputs": [
        {
          "output_type": "stream",
          "name": "stdout",
          "text": [
            "Epoch 1/100\n",
            "1/1 [==============================] - 1s 1s/step - loss: 0.6955 - accuracy: 0.6000 - val_loss: 0.6837 - val_accuracy: 0.6857\n",
            "Epoch 2/100\n",
            "1/1 [==============================] - 0s 43ms/step - loss: 0.6789 - accuracy: 0.8667 - val_loss: 0.6729 - val_accuracy: 0.7429\n",
            "Epoch 3/100\n",
            "1/1 [==============================] - 0s 47ms/step - loss: 0.6627 - accuracy: 0.9000 - val_loss: 0.6625 - val_accuracy: 0.7286\n",
            "Epoch 4/100\n",
            "1/1 [==============================] - 0s 57ms/step - loss: 0.6470 - accuracy: 0.9000 - val_loss: 0.6525 - val_accuracy: 0.7286\n",
            "Epoch 5/100\n",
            "1/1 [==============================] - 0s 55ms/step - loss: 0.6317 - accuracy: 0.9000 - val_loss: 0.6429 - val_accuracy: 0.7286\n",
            "Epoch 6/100\n",
            "1/1 [==============================] - 0s 61ms/step - loss: 0.6168 - accuracy: 0.9000 - val_loss: 0.6336 - val_accuracy: 0.7286\n",
            "Epoch 7/100\n",
            "1/1 [==============================] - 0s 44ms/step - loss: 0.6024 - accuracy: 0.9000 - val_loss: 0.6247 - val_accuracy: 0.7143\n",
            "Epoch 8/100\n",
            "1/1 [==============================] - 0s 57ms/step - loss: 0.5884 - accuracy: 0.9000 - val_loss: 0.6161 - val_accuracy: 0.7143\n",
            "Epoch 9/100\n",
            "1/1 [==============================] - 0s 58ms/step - loss: 0.5749 - accuracy: 0.9000 - val_loss: 0.6079 - val_accuracy: 0.7143\n",
            "Epoch 10/100\n",
            "1/1 [==============================] - 0s 67ms/step - loss: 0.5617 - accuracy: 0.9000 - val_loss: 0.5999 - val_accuracy: 0.7143\n",
            "Epoch 11/100\n",
            "1/1 [==============================] - 0s 42ms/step - loss: 0.5490 - accuracy: 0.9000 - val_loss: 0.5923 - val_accuracy: 0.7143\n",
            "Epoch 12/100\n",
            "1/1 [==============================] - 0s 55ms/step - loss: 0.5366 - accuracy: 0.9000 - val_loss: 0.5850 - val_accuracy: 0.7143\n",
            "Epoch 13/100\n",
            "1/1 [==============================] - 0s 41ms/step - loss: 0.5247 - accuracy: 0.9000 - val_loss: 0.5780 - val_accuracy: 0.7143\n",
            "Epoch 14/100\n",
            "1/1 [==============================] - 0s 40ms/step - loss: 0.5130 - accuracy: 0.9000 - val_loss: 0.5712 - val_accuracy: 0.7143\n",
            "Epoch 15/100\n",
            "1/1 [==============================] - 0s 57ms/step - loss: 0.5018 - accuracy: 0.9000 - val_loss: 0.5648 - val_accuracy: 0.7143\n",
            "Epoch 16/100\n",
            "1/1 [==============================] - 0s 55ms/step - loss: 0.4908 - accuracy: 0.9000 - val_loss: 0.5586 - val_accuracy: 0.7143\n",
            "Epoch 17/100\n",
            "1/1 [==============================] - 0s 79ms/step - loss: 0.4802 - accuracy: 0.9000 - val_loss: 0.5527 - val_accuracy: 0.7143\n",
            "Epoch 18/100\n",
            "1/1 [==============================] - 0s 69ms/step - loss: 0.4700 - accuracy: 0.9000 - val_loss: 0.5470 - val_accuracy: 0.7286\n",
            "Epoch 19/100\n",
            "1/1 [==============================] - 0s 69ms/step - loss: 0.4600 - accuracy: 0.9000 - val_loss: 0.5416 - val_accuracy: 0.7286\n",
            "Epoch 20/100\n",
            "1/1 [==============================] - 0s 56ms/step - loss: 0.4503 - accuracy: 0.9000 - val_loss: 0.5364 - val_accuracy: 0.7286\n",
            "Epoch 21/100\n",
            "1/1 [==============================] - 0s 79ms/step - loss: 0.4409 - accuracy: 0.9000 - val_loss: 0.5314 - val_accuracy: 0.7286\n",
            "Epoch 22/100\n",
            "1/1 [==============================] - 0s 71ms/step - loss: 0.4318 - accuracy: 0.9000 - val_loss: 0.5266 - val_accuracy: 0.7286\n",
            "Epoch 23/100\n",
            "1/1 [==============================] - 0s 73ms/step - loss: 0.4230 - accuracy: 0.9000 - val_loss: 0.5220 - val_accuracy: 0.7286\n",
            "Epoch 24/100\n",
            "1/1 [==============================] - 0s 57ms/step - loss: 0.4144 - accuracy: 0.9000 - val_loss: 0.5177 - val_accuracy: 0.7286\n",
            "Epoch 25/100\n",
            "1/1 [==============================] - 0s 76ms/step - loss: 0.4060 - accuracy: 0.9000 - val_loss: 0.5135 - val_accuracy: 0.7286\n",
            "Epoch 26/100\n",
            "1/1 [==============================] - 0s 63ms/step - loss: 0.3979 - accuracy: 0.9000 - val_loss: 0.5095 - val_accuracy: 0.7286\n",
            "Epoch 27/100\n",
            "1/1 [==============================] - 0s 63ms/step - loss: 0.3901 - accuracy: 0.9000 - val_loss: 0.5058 - val_accuracy: 0.7286\n",
            "Epoch 28/100\n",
            "1/1 [==============================] - 0s 70ms/step - loss: 0.3825 - accuracy: 0.9000 - val_loss: 0.5022 - val_accuracy: 0.7286\n",
            "Epoch 29/100\n",
            "1/1 [==============================] - 0s 72ms/step - loss: 0.3751 - accuracy: 0.9000 - val_loss: 0.4988 - val_accuracy: 0.7286\n",
            "Epoch 30/100\n",
            "1/1 [==============================] - 0s 65ms/step - loss: 0.3680 - accuracy: 0.9000 - val_loss: 0.4955 - val_accuracy: 0.7286\n",
            "Epoch 31/100\n",
            "1/1 [==============================] - 0s 78ms/step - loss: 0.3611 - accuracy: 0.9000 - val_loss: 0.4924 - val_accuracy: 0.7286\n",
            "Epoch 32/100\n",
            "1/1 [==============================] - 0s 71ms/step - loss: 0.3544 - accuracy: 0.9000 - val_loss: 0.4895 - val_accuracy: 0.7286\n",
            "Epoch 33/100\n",
            "1/1 [==============================] - 0s 56ms/step - loss: 0.3479 - accuracy: 0.9000 - val_loss: 0.4867 - val_accuracy: 0.7286\n",
            "Epoch 34/100\n",
            "1/1 [==============================] - 0s 74ms/step - loss: 0.3417 - accuracy: 0.9000 - val_loss: 0.4841 - val_accuracy: 0.7286\n",
            "Epoch 35/100\n",
            "1/1 [==============================] - 0s 67ms/step - loss: 0.3357 - accuracy: 0.9000 - val_loss: 0.4817 - val_accuracy: 0.7286\n",
            "Epoch 36/100\n",
            "1/1 [==============================] - 0s 77ms/step - loss: 0.3298 - accuracy: 0.9000 - val_loss: 0.4793 - val_accuracy: 0.7286\n",
            "Epoch 37/100\n",
            "1/1 [==============================] - 0s 70ms/step - loss: 0.3242 - accuracy: 0.9000 - val_loss: 0.4771 - val_accuracy: 0.7286\n",
            "Epoch 38/100\n",
            "1/1 [==============================] - 0s 71ms/step - loss: 0.3188 - accuracy: 0.9000 - val_loss: 0.4751 - val_accuracy: 0.7286\n",
            "Epoch 39/100\n",
            "1/1 [==============================] - 0s 83ms/step - loss: 0.3136 - accuracy: 0.9333 - val_loss: 0.4731 - val_accuracy: 0.7286\n",
            "Epoch 40/100\n",
            "1/1 [==============================] - 0s 65ms/step - loss: 0.3086 - accuracy: 0.9333 - val_loss: 0.4713 - val_accuracy: 0.7286\n",
            "Epoch 41/100\n",
            "1/1 [==============================] - 0s 77ms/step - loss: 0.3037 - accuracy: 0.9333 - val_loss: 0.4696 - val_accuracy: 0.7286\n",
            "Epoch 42/100\n",
            "1/1 [==============================] - 0s 76ms/step - loss: 0.2991 - accuracy: 0.9333 - val_loss: 0.4680 - val_accuracy: 0.7286\n",
            "Epoch 43/100\n",
            "1/1 [==============================] - 0s 65ms/step - loss: 0.2946 - accuracy: 0.9333 - val_loss: 0.4665 - val_accuracy: 0.7286\n",
            "Epoch 44/100\n",
            "1/1 [==============================] - 0s 64ms/step - loss: 0.2903 - accuracy: 0.9333 - val_loss: 0.4651 - val_accuracy: 0.7286\n",
            "Epoch 45/100\n",
            "1/1 [==============================] - 0s 89ms/step - loss: 0.2862 - accuracy: 0.9333 - val_loss: 0.4638 - val_accuracy: 0.7286\n",
            "Epoch 46/100\n",
            "1/1 [==============================] - 0s 72ms/step - loss: 0.2823 - accuracy: 0.9333 - val_loss: 0.4625 - val_accuracy: 0.7286\n",
            "Epoch 47/100\n",
            "1/1 [==============================] - 0s 72ms/step - loss: 0.2785 - accuracy: 0.9333 - val_loss: 0.4614 - val_accuracy: 0.7286\n",
            "Epoch 48/100\n",
            "1/1 [==============================] - 0s 65ms/step - loss: 0.2749 - accuracy: 0.9000 - val_loss: 0.4603 - val_accuracy: 0.7286\n",
            "Epoch 49/100\n",
            "1/1 [==============================] - 0s 79ms/step - loss: 0.2714 - accuracy: 0.9000 - val_loss: 0.4592 - val_accuracy: 0.7286\n",
            "Epoch 50/100\n",
            "1/1 [==============================] - 0s 63ms/step - loss: 0.2681 - accuracy: 0.9000 - val_loss: 0.4583 - val_accuracy: 0.7286\n",
            "Epoch 51/100\n",
            "1/1 [==============================] - 0s 58ms/step - loss: 0.2649 - accuracy: 0.9000 - val_loss: 0.4573 - val_accuracy: 0.7286\n",
            "Epoch 52/100\n",
            "1/1 [==============================] - 0s 57ms/step - loss: 0.2619 - accuracy: 0.9000 - val_loss: 0.4565 - val_accuracy: 0.7286\n",
            "Epoch 53/100\n",
            "1/1 [==============================] - 0s 41ms/step - loss: 0.2589 - accuracy: 0.9000 - val_loss: 0.4556 - val_accuracy: 0.7286\n",
            "Epoch 54/100\n",
            "1/1 [==============================] - 0s 57ms/step - loss: 0.2561 - accuracy: 0.9000 - val_loss: 0.4549 - val_accuracy: 0.7286\n",
            "Epoch 55/100\n",
            "1/1 [==============================] - 0s 55ms/step - loss: 0.2534 - accuracy: 0.9000 - val_loss: 0.4541 - val_accuracy: 0.7286\n",
            "Epoch 56/100\n",
            "1/1 [==============================] - 0s 57ms/step - loss: 0.2508 - accuracy: 0.9000 - val_loss: 0.4534 - val_accuracy: 0.7286\n",
            "Epoch 57/100\n",
            "1/1 [==============================] - 0s 40ms/step - loss: 0.2483 - accuracy: 0.9000 - val_loss: 0.4527 - val_accuracy: 0.7286\n",
            "Epoch 58/100\n",
            "1/1 [==============================] - 0s 45ms/step - loss: 0.2460 - accuracy: 0.9000 - val_loss: 0.4521 - val_accuracy: 0.7429\n",
            "Epoch 59/100\n",
            "1/1 [==============================] - 0s 57ms/step - loss: 0.2437 - accuracy: 0.9000 - val_loss: 0.4514 - val_accuracy: 0.7429\n",
            "Epoch 60/100\n",
            "1/1 [==============================] - 0s 42ms/step - loss: 0.2415 - accuracy: 0.9000 - val_loss: 0.4508 - val_accuracy: 0.7429\n",
            "Epoch 61/100\n",
            "1/1 [==============================] - 0s 58ms/step - loss: 0.2393 - accuracy: 0.9000 - val_loss: 0.4502 - val_accuracy: 0.7429\n",
            "Epoch 62/100\n",
            "1/1 [==============================] - 0s 57ms/step - loss: 0.2373 - accuracy: 0.9000 - val_loss: 0.4496 - val_accuracy: 0.7429\n",
            "Epoch 63/100\n",
            "1/1 [==============================] - 0s 45ms/step - loss: 0.2354 - accuracy: 0.9000 - val_loss: 0.4490 - val_accuracy: 0.7429\n",
            "Epoch 64/100\n",
            "1/1 [==============================] - 0s 59ms/step - loss: 0.2335 - accuracy: 0.9000 - val_loss: 0.4484 - val_accuracy: 0.7429\n",
            "Epoch 65/100\n",
            "1/1 [==============================] - 0s 44ms/step - loss: 0.2317 - accuracy: 0.9000 - val_loss: 0.4479 - val_accuracy: 0.7429\n",
            "Epoch 66/100\n",
            "1/1 [==============================] - 0s 44ms/step - loss: 0.2300 - accuracy: 0.9000 - val_loss: 0.4473 - val_accuracy: 0.7429\n",
            "Epoch 67/100\n",
            "1/1 [==============================] - 0s 57ms/step - loss: 0.2283 - accuracy: 0.9000 - val_loss: 0.4467 - val_accuracy: 0.7429\n",
            "Epoch 68/100\n",
            "1/1 [==============================] - 0s 42ms/step - loss: 0.2267 - accuracy: 0.9000 - val_loss: 0.4462 - val_accuracy: 0.7429\n",
            "Epoch 69/100\n",
            "1/1 [==============================] - 0s 54ms/step - loss: 0.2252 - accuracy: 0.9000 - val_loss: 0.4456 - val_accuracy: 0.7429\n",
            "Epoch 70/100\n",
            "1/1 [==============================] - 0s 46ms/step - loss: 0.2237 - accuracy: 0.9000 - val_loss: 0.4451 - val_accuracy: 0.7429\n",
            "Epoch 71/100\n",
            "1/1 [==============================] - 0s 42ms/step - loss: 0.2223 - accuracy: 0.9000 - val_loss: 0.4445 - val_accuracy: 0.7429\n",
            "Epoch 72/100\n",
            "1/1 [==============================] - 0s 42ms/step - loss: 0.2209 - accuracy: 0.9000 - val_loss: 0.4440 - val_accuracy: 0.7429\n",
            "Epoch 73/100\n",
            "1/1 [==============================] - 0s 57ms/step - loss: 0.2196 - accuracy: 0.9000 - val_loss: 0.4435 - val_accuracy: 0.7429\n",
            "Epoch 74/100\n",
            "1/1 [==============================] - 0s 41ms/step - loss: 0.2183 - accuracy: 0.9000 - val_loss: 0.4430 - val_accuracy: 0.7429\n",
            "Epoch 75/100\n",
            "1/1 [==============================] - 0s 58ms/step - loss: 0.2171 - accuracy: 0.9000 - val_loss: 0.4425 - val_accuracy: 0.7429\n",
            "Epoch 76/100\n",
            "1/1 [==============================] - 0s 55ms/step - loss: 0.2159 - accuracy: 0.9000 - val_loss: 0.4419 - val_accuracy: 0.7429\n",
            "Epoch 77/100\n",
            "1/1 [==============================] - 0s 44ms/step - loss: 0.2147 - accuracy: 0.9000 - val_loss: 0.4414 - val_accuracy: 0.7429\n",
            "Epoch 78/100\n",
            "1/1 [==============================] - 0s 59ms/step - loss: 0.2136 - accuracy: 0.9000 - val_loss: 0.4409 - val_accuracy: 0.7429\n",
            "Epoch 79/100\n",
            "1/1 [==============================] - 0s 57ms/step - loss: 0.2125 - accuracy: 0.9000 - val_loss: 0.4404 - val_accuracy: 0.7429\n",
            "Epoch 80/100\n",
            "1/1 [==============================] - 0s 59ms/step - loss: 0.2115 - accuracy: 0.9000 - val_loss: 0.4399 - val_accuracy: 0.7429\n",
            "Epoch 81/100\n",
            "1/1 [==============================] - 0s 42ms/step - loss: 0.2105 - accuracy: 0.9000 - val_loss: 0.4394 - val_accuracy: 0.7429\n",
            "Epoch 82/100\n",
            "1/1 [==============================] - 0s 43ms/step - loss: 0.2095 - accuracy: 0.9000 - val_loss: 0.4389 - val_accuracy: 0.7429\n",
            "Epoch 83/100\n",
            "1/1 [==============================] - 0s 60ms/step - loss: 0.2085 - accuracy: 0.9000 - val_loss: 0.4383 - val_accuracy: 0.7429\n",
            "Epoch 84/100\n",
            "1/1 [==============================] - 0s 56ms/step - loss: 0.2076 - accuracy: 0.9000 - val_loss: 0.4378 - val_accuracy: 0.7429\n",
            "Epoch 85/100\n",
            "1/1 [==============================] - 0s 52ms/step - loss: 0.2066 - accuracy: 0.9000 - val_loss: 0.4373 - val_accuracy: 0.7429\n",
            "Epoch 86/100\n",
            "1/1 [==============================] - 0s 44ms/step - loss: 0.2058 - accuracy: 0.9000 - val_loss: 0.4367 - val_accuracy: 0.7429\n",
            "Epoch 87/100\n",
            "1/1 [==============================] - 0s 59ms/step - loss: 0.2049 - accuracy: 0.9000 - val_loss: 0.4362 - val_accuracy: 0.7429\n",
            "Epoch 88/100\n",
            "1/1 [==============================] - 0s 43ms/step - loss: 0.2040 - accuracy: 0.9000 - val_loss: 0.4356 - val_accuracy: 0.7429\n",
            "Epoch 89/100\n",
            "1/1 [==============================] - 0s 60ms/step - loss: 0.2032 - accuracy: 0.9000 - val_loss: 0.4350 - val_accuracy: 0.7429\n",
            "Epoch 90/100\n",
            "1/1 [==============================] - 0s 59ms/step - loss: 0.2024 - accuracy: 0.9000 - val_loss: 0.4345 - val_accuracy: 0.7429\n",
            "Epoch 91/100\n",
            "1/1 [==============================] - 0s 58ms/step - loss: 0.2016 - accuracy: 0.9000 - val_loss: 0.4339 - val_accuracy: 0.7429\n",
            "Epoch 92/100\n",
            "1/1 [==============================] - 0s 43ms/step - loss: 0.2008 - accuracy: 0.9000 - val_loss: 0.4333 - val_accuracy: 0.7429\n",
            "Epoch 93/100\n",
            "1/1 [==============================] - 0s 56ms/step - loss: 0.2001 - accuracy: 0.9000 - val_loss: 0.4327 - val_accuracy: 0.7429\n",
            "Epoch 94/100\n",
            "1/1 [==============================] - 0s 46ms/step - loss: 0.1993 - accuracy: 0.9000 - val_loss: 0.4321 - val_accuracy: 0.7429\n",
            "Epoch 95/100\n",
            "1/1 [==============================] - 0s 43ms/step - loss: 0.1986 - accuracy: 0.9000 - val_loss: 0.4315 - val_accuracy: 0.7429\n",
            "Epoch 96/100\n",
            "1/1 [==============================] - 0s 42ms/step - loss: 0.1979 - accuracy: 0.9000 - val_loss: 0.4309 - val_accuracy: 0.7429\n",
            "Epoch 97/100\n",
            "1/1 [==============================] - 0s 56ms/step - loss: 0.1972 - accuracy: 0.9000 - val_loss: 0.4303 - val_accuracy: 0.7429\n",
            "Epoch 98/100\n",
            "1/1 [==============================] - 0s 58ms/step - loss: 0.1965 - accuracy: 0.9000 - val_loss: 0.4297 - val_accuracy: 0.7571\n",
            "Epoch 99/100\n",
            "1/1 [==============================] - 0s 57ms/step - loss: 0.1958 - accuracy: 0.9000 - val_loss: 0.4290 - val_accuracy: 0.7571\n",
            "Epoch 100/100\n",
            "1/1 [==============================] - 0s 56ms/step - loss: 0.1951 - accuracy: 0.9000 - val_loss: 0.4284 - val_accuracy: 0.7571\n"
          ]
        }
      ]
    },
    {
      "cell_type": "code",
      "source": [
        "pyplot.plot(history.history['accuracy'],label='train')\n",
        "pyplot.plot(history.history['val_accuracy'],label='test')\n",
        "pyplot.legend()\n",
        "pyplot.show()"
      ],
      "metadata": {
        "colab": {
          "base_uri": "https://localhost:8080/",
          "height": 435
        },
        "id": "FhszB8euaMbS",
        "outputId": "fd8707ec-299f-4fb0-af27-acd2f17d6aa3"
      },
      "execution_count": null,
      "outputs": [
        {
          "output_type": "display_data",
          "data": {
            "text/plain": [
              "<Figure size 640x480 with 1 Axes>"
            ],
            "image/png": "[encoded data removed]"
          },
          "metadata": {}
        }
      ]
    },
    {
      "cell_type": "code",
      "source": [
        "from keras.regularizers import l1_l2"
      ],
      "metadata": {
        "id": "se6D8FoMaOmy"
      },
      "execution_count": null,
      "outputs": []
    },
    {
      "cell_type": "code",
      "source": [
        "model=Sequential()\n",
        "model.add(Dense(500,input_dim=2,activation='relu',kernel_regularizer=l1_l2(l1=0.001,l2=0.001)))\n",
        "model.add(Dense(1,activation='sigmoid'))\n",
        "model.compile(loss='binary_crossentropy',optimizer='adam',metrics=['accuracy'])"
      ],
      "metadata": {
        "id": "4nWUpbKCaRcx"
      },
      "execution_count": null,
      "outputs": []
    },
    {
      "cell_type": "code",
      "source": [
        "model.summary()"
      ],
      "metadata": {
        "colab": {
          "base_uri": "https://localhost:8080/"
        },
        "id": "Gyu1xraIaTMx",
        "outputId": "79ac2a13-3a84-4b98-e385-435a44db72c0"
      },
      "execution_count": null,
      "outputs": [
        {
          "output_type": "stream",
          "name": "stdout",
          "text": [
            "Model: \"sequential_2\"\n",
            "_________________________________________________________________\n",
            " Layer (type)                Output Shape              Param #   \n",
            "=================================================================\n",
            " dense_4 (Dense)             (None, 500)               1500      \n",
            "                                                                 \n",
            " dense_5 (Dense)             (None, 1)                 501       \n",
            "                                                                 \n",
            "=================================================================\n",
            "Total params: 2001 (7.82 KB)\n",
            "Trainable params: 2001 (7.82 KB)\n",
            "Non-trainable params: 0 (0.00 Byte)\n",
            "_________________________________________________________________\n"
          ]
        }
      ]
    },
    {
      "cell_type": "code",
      "source": [
        "history=model.fit(trainX,trainY,validation_data=(testX,testY),epochs=100)"
      ],
      "metadata": {
        "colab": {
          "base_uri": "https://localhost:8080/"
        },
        "id": "0S7eLy43aUzK",
        "outputId": "1afa70a1-d1a6-4585-9083-98bbf3cdc13e"
      },
      "execution_count": null,
      "outputs": [
        {
          "output_type": "stream",
          "name": "stdout",
          "text": [
            "Epoch 1/100\n",
            "1/1 [==============================] - 1s 1s/step - loss: 0.7606 - accuracy: 0.4667 - val_loss: 0.7435 - val_accuracy: 0.6429\n",
            "Epoch 2/100\n",
            "1/1 [==============================] - 0s 58ms/step - loss: 0.7445 - accuracy: 0.5667 - val_loss: 0.7329 - val_accuracy: 0.7857\n",
            "Epoch 3/100\n",
            "1/1 [==============================] - 0s 57ms/step - loss: 0.7288 - accuracy: 0.7333 - val_loss: 0.7225 - val_accuracy: 0.8000\n",
            "Epoch 4/100\n",
            "1/1 [==============================] - 0s 58ms/step - loss: 0.7135 - accuracy: 0.8667 - val_loss: 0.7125 - val_accuracy: 0.7429\n",
            "Epoch 5/100\n",
            "1/1 [==============================] - 0s 42ms/step - loss: 0.6985 - accuracy: 0.8667 - val_loss: 0.7029 - val_accuracy: 0.7286\n",
            "Epoch 6/100\n",
            "1/1 [==============================] - 0s 56ms/step - loss: 0.6840 - accuracy: 0.9000 - val_loss: 0.6935 - val_accuracy: 0.7286\n",
            "Epoch 7/100\n",
            "1/1 [==============================] - 0s 58ms/step - loss: 0.6699 - accuracy: 0.9000 - val_loss: 0.6844 - val_accuracy: 0.7286\n",
            "Epoch 8/100\n",
            "1/1 [==============================] - 0s 64ms/step - loss: 0.6561 - accuracy: 0.9000 - val_loss: 0.6757 - val_accuracy: 0.7286\n",
            "Epoch 9/100\n",
            "1/1 [==============================] - 0s 42ms/step - loss: 0.6428 - accuracy: 0.8667 - val_loss: 0.6673 - val_accuracy: 0.7286\n",
            "Epoch 10/100\n",
            "1/1 [==============================] - 0s 56ms/step - loss: 0.6297 - accuracy: 0.8667 - val_loss: 0.6592 - val_accuracy: 0.7286\n",
            "Epoch 11/100\n",
            "1/1 [==============================] - 0s 57ms/step - loss: 0.6170 - accuracy: 0.8667 - val_loss: 0.6513 - val_accuracy: 0.7286\n",
            "Epoch 12/100\n",
            "1/1 [==============================] - 0s 43ms/step - loss: 0.6047 - accuracy: 0.8667 - val_loss: 0.6438 - val_accuracy: 0.7286\n",
            "Epoch 13/100\n",
            "1/1 [==============================] - 0s 41ms/step - loss: 0.5926 - accuracy: 0.8667 - val_loss: 0.6365 - val_accuracy: 0.7286\n",
            "Epoch 14/100\n",
            "1/1 [==============================] - 0s 45ms/step - loss: 0.5809 - accuracy: 0.8667 - val_loss: 0.6295 - val_accuracy: 0.7286\n",
            "Epoch 15/100\n",
            "1/1 [==============================] - 0s 53ms/step - loss: 0.5696 - accuracy: 0.8667 - val_loss: 0.6227 - val_accuracy: 0.7286\n",
            "Epoch 16/100\n",
            "1/1 [==============================] - 0s 39ms/step - loss: 0.5585 - accuracy: 0.8667 - val_loss: 0.6162 - val_accuracy: 0.7286\n",
            "Epoch 17/100\n",
            "1/1 [==============================] - 0s 86ms/step - loss: 0.5477 - accuracy: 0.8667 - val_loss: 0.6100 - val_accuracy: 0.7286\n",
            "Epoch 18/100\n",
            "1/1 [==============================] - 0s 74ms/step - loss: 0.5372 - accuracy: 0.8667 - val_loss: 0.6040 - val_accuracy: 0.7286\n",
            "Epoch 19/100\n",
            "1/1 [==============================] - 0s 78ms/step - loss: 0.5271 - accuracy: 0.8667 - val_loss: 0.5983 - val_accuracy: 0.7286\n",
            "Epoch 20/100\n",
            "1/1 [==============================] - 0s 75ms/step - loss: 0.5172 - accuracy: 0.9000 - val_loss: 0.5928 - val_accuracy: 0.7286\n",
            "Epoch 21/100\n",
            "1/1 [==============================] - 0s 83ms/step - loss: 0.5075 - accuracy: 0.9000 - val_loss: 0.5876 - val_accuracy: 0.7286\n",
            "Epoch 22/100\n",
            "1/1 [==============================] - 0s 73ms/step - loss: 0.4982 - accuracy: 0.9000 - val_loss: 0.5827 - val_accuracy: 0.7286\n",
            "Epoch 23/100\n",
            "1/1 [==============================] - 0s 52ms/step - loss: 0.4892 - accuracy: 0.9000 - val_loss: 0.5779 - val_accuracy: 0.7286\n",
            "Epoch 24/100\n",
            "1/1 [==============================] - 0s 75ms/step - loss: 0.4804 - accuracy: 0.9000 - val_loss: 0.5734 - val_accuracy: 0.7286\n",
            "Epoch 25/100\n",
            "1/1 [==============================] - 0s 51ms/step - loss: 0.4719 - accuracy: 0.9000 - val_loss: 0.5691 - val_accuracy: 0.7286\n",
            "Epoch 26/100\n",
            "1/1 [==============================] - 0s 58ms/step - loss: 0.4636 - accuracy: 0.9000 - val_loss: 0.5650 - val_accuracy: 0.7286\n",
            "Epoch 27/100\n",
            "1/1 [==============================] - 0s 68ms/step - loss: 0.4556 - accuracy: 0.9000 - val_loss: 0.5612 - val_accuracy: 0.7286\n",
            "Epoch 28/100\n",
            "1/1 [==============================] - 0s 72ms/step - loss: 0.4479 - accuracy: 0.9000 - val_loss: 0.5575 - val_accuracy: 0.7286\n",
            "Epoch 29/100\n",
            "1/1 [==============================] - 0s 66ms/step - loss: 0.4404 - accuracy: 0.9000 - val_loss: 0.5540 - val_accuracy: 0.7286\n",
            "Epoch 30/100\n",
            "1/1 [==============================] - 0s 64ms/step - loss: 0.4331 - accuracy: 0.9000 - val_loss: 0.5508 - val_accuracy: 0.7286\n",
            "Epoch 31/100\n",
            "1/1 [==============================] - 0s 56ms/step - loss: 0.4261 - accuracy: 0.9000 - val_loss: 0.5477 - val_accuracy: 0.7286\n",
            "Epoch 32/100\n",
            "1/1 [==============================] - 0s 63ms/step - loss: 0.4193 - accuracy: 0.8667 - val_loss: 0.5448 - val_accuracy: 0.7286\n",
            "Epoch 33/100\n",
            "1/1 [==============================] - 0s 62ms/step - loss: 0.4128 - accuracy: 0.8667 - val_loss: 0.5421 - val_accuracy: 0.7286\n",
            "Epoch 34/100\n",
            "1/1 [==============================] - 0s 62ms/step - loss: 0.4065 - accuracy: 0.8667 - val_loss: 0.5396 - val_accuracy: 0.7286\n",
            "Epoch 35/100\n",
            "1/1 [==============================] - 0s 69ms/step - loss: 0.4005 - accuracy: 0.8667 - val_loss: 0.5372 - val_accuracy: 0.7286\n",
            "Epoch 36/100\n",
            "1/1 [==============================] - 0s 62ms/step - loss: 0.3946 - accuracy: 0.9000 - val_loss: 0.5351 - val_accuracy: 0.7286\n",
            "Epoch 37/100\n",
            "1/1 [==============================] - 0s 66ms/step - loss: 0.3890 - accuracy: 0.9000 - val_loss: 0.5330 - val_accuracy: 0.7286\n",
            "Epoch 38/100\n",
            "1/1 [==============================] - 0s 59ms/step - loss: 0.3835 - accuracy: 0.9000 - val_loss: 0.5311 - val_accuracy: 0.7286\n",
            "Epoch 39/100\n",
            "1/1 [==============================] - 0s 72ms/step - loss: 0.3783 - accuracy: 0.9000 - val_loss: 0.5294 - val_accuracy: 0.7286\n",
            "Epoch 40/100\n",
            "1/1 [==============================] - 0s 68ms/step - loss: 0.3733 - accuracy: 0.9000 - val_loss: 0.5277 - val_accuracy: 0.7286\n",
            "Epoch 41/100\n",
            "1/1 [==============================] - 0s 66ms/step - loss: 0.3685 - accuracy: 0.9000 - val_loss: 0.5262 - val_accuracy: 0.7286\n",
            "Epoch 42/100\n",
            "1/1 [==============================] - 0s 64ms/step - loss: 0.3638 - accuracy: 0.9000 - val_loss: 0.5248 - val_accuracy: 0.7286\n",
            "Epoch 43/100\n",
            "1/1 [==============================] - 0s 67ms/step - loss: 0.3594 - accuracy: 0.9000 - val_loss: 0.5234 - val_accuracy: 0.7286\n",
            "Epoch 44/100\n",
            "1/1 [==============================] - 0s 78ms/step - loss: 0.3551 - accuracy: 0.9000 - val_loss: 0.5221 - val_accuracy: 0.7286\n",
            "Epoch 45/100\n",
            "1/1 [==============================] - 0s 72ms/step - loss: 0.3510 - accuracy: 0.9000 - val_loss: 0.5209 - val_accuracy: 0.7286\n",
            "Epoch 46/100\n",
            "1/1 [==============================] - 0s 73ms/step - loss: 0.3471 - accuracy: 0.9000 - val_loss: 0.5198 - val_accuracy: 0.7286\n",
            "Epoch 47/100\n",
            "1/1 [==============================] - 0s 71ms/step - loss: 0.3433 - accuracy: 0.9000 - val_loss: 0.5187 - val_accuracy: 0.7286\n",
            "Epoch 48/100\n",
            "1/1 [==============================] - 0s 84ms/step - loss: 0.3397 - accuracy: 0.9000 - val_loss: 0.5176 - val_accuracy: 0.7286\n",
            "Epoch 49/100\n",
            "1/1 [==============================] - 0s 74ms/step - loss: 0.3362 - accuracy: 0.9000 - val_loss: 0.5166 - val_accuracy: 0.7286\n",
            "Epoch 50/100\n",
            "1/1 [==============================] - 0s 69ms/step - loss: 0.3329 - accuracy: 0.9000 - val_loss: 0.5156 - val_accuracy: 0.7286\n",
            "Epoch 51/100\n",
            "1/1 [==============================] - 0s 67ms/step - loss: 0.3297 - accuracy: 0.9000 - val_loss: 0.5146 - val_accuracy: 0.7286\n",
            "Epoch 52/100\n",
            "1/1 [==============================] - 0s 54ms/step - loss: 0.3266 - accuracy: 0.9000 - val_loss: 0.5136 - val_accuracy: 0.7286\n",
            "Epoch 53/100\n",
            "1/1 [==============================] - 0s 55ms/step - loss: 0.3236 - accuracy: 0.9000 - val_loss: 0.5127 - val_accuracy: 0.7286\n",
            "Epoch 54/100\n",
            "1/1 [==============================] - 0s 42ms/step - loss: 0.3208 - accuracy: 0.9000 - val_loss: 0.5117 - val_accuracy: 0.7286\n",
            "Epoch 55/100\n",
            "1/1 [==============================] - 0s 56ms/step - loss: 0.3180 - accuracy: 0.9000 - val_loss: 0.5107 - val_accuracy: 0.7286\n",
            "Epoch 56/100\n",
            "1/1 [==============================] - 0s 40ms/step - loss: 0.3154 - accuracy: 0.9000 - val_loss: 0.5098 - val_accuracy: 0.7286\n",
            "Epoch 57/100\n",
            "1/1 [==============================] - 0s 60ms/step - loss: 0.3129 - accuracy: 0.9000 - val_loss: 0.5088 - val_accuracy: 0.7286\n",
            "Epoch 58/100\n",
            "1/1 [==============================] - 0s 43ms/step - loss: 0.3104 - accuracy: 0.9000 - val_loss: 0.5078 - val_accuracy: 0.7429\n",
            "Epoch 59/100\n",
            "1/1 [==============================] - 0s 44ms/step - loss: 0.3081 - accuracy: 0.9000 - val_loss: 0.5068 - val_accuracy: 0.7429\n",
            "Epoch 60/100\n",
            "1/1 [==============================] - 0s 41ms/step - loss: 0.3058 - accuracy: 0.9000 - val_loss: 0.5058 - val_accuracy: 0.7429\n",
            "Epoch 61/100\n",
            "1/1 [==============================] - 0s 56ms/step - loss: 0.3036 - accuracy: 0.9000 - val_loss: 0.5048 - val_accuracy: 0.7429\n",
            "Epoch 62/100\n",
            "1/1 [==============================] - 0s 54ms/step - loss: 0.3015 - accuracy: 0.9000 - val_loss: 0.5037 - val_accuracy: 0.7429\n",
            "Epoch 63/100\n",
            "1/1 [==============================] - 0s 42ms/step - loss: 0.2995 - accuracy: 0.9000 - val_loss: 0.5027 - val_accuracy: 0.7429\n",
            "Epoch 64/100\n",
            "1/1 [==============================] - 0s 42ms/step - loss: 0.2975 - accuracy: 0.9000 - val_loss: 0.5016 - val_accuracy: 0.7429\n",
            "Epoch 65/100\n",
            "1/1 [==============================] - 0s 56ms/step - loss: 0.2956 - accuracy: 0.9000 - val_loss: 0.5006 - val_accuracy: 0.7429\n",
            "Epoch 66/100\n",
            "1/1 [==============================] - 0s 40ms/step - loss: 0.2938 - accuracy: 0.9000 - val_loss: 0.4995 - val_accuracy: 0.7429\n",
            "Epoch 67/100\n",
            "1/1 [==============================] - 0s 65ms/step - loss: 0.2921 - accuracy: 0.9000 - val_loss: 0.4984 - val_accuracy: 0.7429\n",
            "Epoch 68/100\n",
            "1/1 [==============================] - 0s 46ms/step - loss: 0.2904 - accuracy: 0.9000 - val_loss: 0.4973 - val_accuracy: 0.7429\n",
            "Epoch 69/100\n",
            "1/1 [==============================] - 0s 45ms/step - loss: 0.2887 - accuracy: 0.9000 - val_loss: 0.4962 - val_accuracy: 0.7429\n",
            "Epoch 70/100\n",
            "1/1 [==============================] - 0s 50ms/step - loss: 0.2872 - accuracy: 0.9000 - val_loss: 0.4951 - val_accuracy: 0.7429\n",
            "Epoch 71/100\n",
            "1/1 [==============================] - 0s 41ms/step - loss: 0.2856 - accuracy: 0.9000 - val_loss: 0.4940 - val_accuracy: 0.7429\n",
            "Epoch 72/100\n",
            "1/1 [==============================] - 0s 56ms/step - loss: 0.2842 - accuracy: 0.9000 - val_loss: 0.4930 - val_accuracy: 0.7429\n",
            "Epoch 73/100\n",
            "1/1 [==============================] - 0s 56ms/step - loss: 0.2828 - accuracy: 0.9000 - val_loss: 0.4919 - val_accuracy: 0.7429\n",
            "Epoch 74/100\n",
            "1/1 [==============================] - 0s 41ms/step - loss: 0.2814 - accuracy: 0.9000 - val_loss: 0.4908 - val_accuracy: 0.7429\n",
            "Epoch 75/100\n",
            "1/1 [==============================] - 0s 89ms/step - loss: 0.2801 - accuracy: 0.9000 - val_loss: 0.4897 - val_accuracy: 0.7429\n",
            "Epoch 76/100\n",
            "1/1 [==============================] - 0s 130ms/step - loss: 0.2788 - accuracy: 0.9000 - val_loss: 0.4887 - val_accuracy: 0.7429\n",
            "Epoch 77/100\n",
            "1/1 [==============================] - 0s 171ms/step - loss: 0.2775 - accuracy: 0.9000 - val_loss: 0.4876 - val_accuracy: 0.7429\n",
            "Epoch 78/100\n",
            "1/1 [==============================] - 0s 153ms/step - loss: 0.2763 - accuracy: 0.9000 - val_loss: 0.4866 - val_accuracy: 0.7429\n",
            "Epoch 79/100\n",
            "1/1 [==============================] - 0s 151ms/step - loss: 0.2751 - accuracy: 0.9000 - val_loss: 0.4856 - val_accuracy: 0.7429\n",
            "Epoch 80/100\n",
            "1/1 [==============================] - 0s 88ms/step - loss: 0.2739 - accuracy: 0.9000 - val_loss: 0.4846 - val_accuracy: 0.7429\n",
            "Epoch 81/100\n",
            "1/1 [==============================] - 0s 78ms/step - loss: 0.2728 - accuracy: 0.9000 - val_loss: 0.4836 - val_accuracy: 0.7429\n",
            "Epoch 82/100\n",
            "1/1 [==============================] - 0s 113ms/step - loss: 0.2717 - accuracy: 0.9000 - val_loss: 0.4826 - val_accuracy: 0.7429\n",
            "Epoch 83/100\n",
            "1/1 [==============================] - 0s 144ms/step - loss: 0.2706 - accuracy: 0.9000 - val_loss: 0.4817 - val_accuracy: 0.7429\n",
            "Epoch 84/100\n",
            "1/1 [==============================] - 0s 102ms/step - loss: 0.2695 - accuracy: 0.9000 - val_loss: 0.4807 - val_accuracy: 0.7429\n",
            "Epoch 85/100\n",
            "1/1 [==============================] - 0s 169ms/step - loss: 0.2685 - accuracy: 0.9000 - val_loss: 0.4798 - val_accuracy: 0.7571\n",
            "Epoch 86/100\n",
            "1/1 [==============================] - 0s 80ms/step - loss: 0.2674 - accuracy: 0.9000 - val_loss: 0.4789 - val_accuracy: 0.7571\n",
            "Epoch 87/100\n",
            "1/1 [==============================] - 0s 143ms/step - loss: 0.2664 - accuracy: 0.9000 - val_loss: 0.4780 - val_accuracy: 0.7571\n",
            "Epoch 88/100\n",
            "1/1 [==============================] - 0s 85ms/step - loss: 0.2654 - accuracy: 0.9000 - val_loss: 0.4772 - val_accuracy: 0.7571\n",
            "Epoch 89/100\n",
            "1/1 [==============================] - 0s 76ms/step - loss: 0.2645 - accuracy: 0.9000 - val_loss: 0.4763 - val_accuracy: 0.7571\n",
            "Epoch 90/100\n",
            "1/1 [==============================] - 0s 79ms/step - loss: 0.2635 - accuracy: 0.9000 - val_loss: 0.4754 - val_accuracy: 0.7571\n",
            "Epoch 91/100\n",
            "1/1 [==============================] - 0s 126ms/step - loss: 0.2626 - accuracy: 0.9000 - val_loss: 0.4746 - val_accuracy: 0.7571\n",
            "Epoch 92/100\n",
            "1/1 [==============================] - 0s 76ms/step - loss: 0.2617 - accuracy: 0.9000 - val_loss: 0.4737 - val_accuracy: 0.7571\n",
            "Epoch 93/100\n",
            "1/1 [==============================] - 0s 65ms/step - loss: 0.2608 - accuracy: 0.9000 - val_loss: 0.4729 - val_accuracy: 0.7571\n",
            "Epoch 94/100\n",
            "1/1 [==============================] - 0s 209ms/step - loss: 0.2599 - accuracy: 0.9000 - val_loss: 0.4721 - val_accuracy: 0.7571\n",
            "Epoch 95/100\n",
            "1/1 [==============================] - 0s 153ms/step - loss: 0.2591 - accuracy: 0.9000 - val_loss: 0.4713 - val_accuracy: 0.7571\n",
            "Epoch 96/100\n",
            "1/1 [==============================] - 0s 136ms/step - loss: 0.2582 - accuracy: 0.9000 - val_loss: 0.4705 - val_accuracy: 0.7571\n",
            "Epoch 97/100\n",
            "1/1 [==============================] - 0s 91ms/step - loss: 0.2574 - accuracy: 0.9000 - val_loss: 0.4698 - val_accuracy: 0.7571\n",
            "Epoch 98/100\n",
            "1/1 [==============================] - 0s 40ms/step - loss: 0.2566 - accuracy: 0.9000 - val_loss: 0.4690 - val_accuracy: 0.7571\n",
            "Epoch 99/100\n",
            "1/1 [==============================] - 0s 43ms/step - loss: 0.2558 - accuracy: 0.9000 - val_loss: 0.4682 - val_accuracy: 0.7571\n",
            "Epoch 100/100\n",
            "1/1 [==============================] - 0s 43ms/step - loss: 0.2550 - accuracy: 0.9000 - val_loss: 0.4675 - val_accuracy: 0.7571\n"
          ]
        }
      ]
    },
    {
      "cell_type": "code",
      "source": [
        "pyplot.plot(history.history['accuracy'],label='train')\n",
        "pyplot.plot(history.history['val_accuracy'],label='test')\n",
        "pyplot.legend()\n",
        "pyplot.show()"
      ],
      "metadata": {
        "colab": {
          "base_uri": "https://localhost:8080/",
          "height": 430
        },
        "id": "M4MVop5laYso",
        "outputId": "c62feb09-80b9-4434-9f27-5e29289c8e59"
      },
      "execution_count": null,
      "outputs": [
        {
          "output_type": "display_data",
          "data": {
            "text/plain": [
              "<Figure size 640x480 with 1 Axes>"
            ],
            "image/png": "[encoded data removed]"
          },
          "metadata": {}
        }
      ]
    }
  ]
}