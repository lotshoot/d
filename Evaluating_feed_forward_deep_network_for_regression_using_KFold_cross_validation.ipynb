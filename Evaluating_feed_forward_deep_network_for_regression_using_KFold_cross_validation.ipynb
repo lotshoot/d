{
  "nbformat": 4,
  "nbformat_minor": 0,
  "metadata": {
    "colab": {
      "provenance": []
    },
    "kernelspec": {
      "name": "python3",
      "display_name": "Python 3"
    },
    "language_info": {
      "name": "python"
    }
  },
  "cells": [
    {
      "cell_type": "code",
      "execution_count": null,
      "metadata": {
        "id": "ERLQAxxkV1HE"
      },
      "outputs": [],
      "source": [
        "from tensorflow.keras.datasets import cifar10\n",
        "from tensorflow.keras.models import Sequential\n",
        "from tensorflow.keras.layers import Dense, Flatten, Conv2D, MaxPooling2D\n",
        "from tensorflow.keras.losses import sparse_categorical_crossentropy\n",
        "from tensorflow.keras.optimizers import Adam\n",
        "import matplotlib.pyplot as plt"
      ]
    },
    {
      "cell_type": "code",
      "source": [
        "# Model configuration\n",
        "batch_size = 50\n",
        "img_width, img_height, img_num_channels = 32, 32, 3\n",
        "loss_function = sparse_categorical_crossentropy\n",
        "no_classes = 100\n",
        "no_epochs = 10   # you can increase it to 20,50,70, 100\n",
        "optimizer = Adam()\n",
        "verbosity = 1"
      ],
      "metadata": {
        "id": "syEZT0TmWCoz"
      },
      "execution_count": null,
      "outputs": []
    },
    {
      "cell_type": "code",
      "source": [
        "# Load CIFAR-10 data\n",
        "(input_train, target_train), (input_test, target_test) = cifar10.load_data()\n",
        "# Determine shape of the data\n",
        "input_shape = (img_width, img_height, img_num_channels)"
      ],
      "metadata": {
        "colab": {
          "base_uri": "https://localhost:8080/"
        },
        "id": "vYtDy6EEWGiK",
        "outputId": "098e47bc-7ffb-420d-978c-9aa5a6244bd2"
      },
      "execution_count": null,
      "outputs": [
        {
          "output_type": "stream",
          "name": "stdout",
          "text": [
            "Downloading data from https://www.cs.toronto.edu/~kriz/cifar-10-python.tar.gz\n",
            "170498071/170498071 [==============================] - 2s 0us/step\n"
          ]
        }
      ]
    },
    {
      "cell_type": "code",
      "source": [
        "# Parse numbers as floats\n",
        "input_train = input_train.astype('float32')\n",
        "input_test = input_test.astype('float32')"
      ],
      "metadata": {
        "id": "6S3IKxbEWK3S"
      },
      "execution_count": null,
      "outputs": []
    },
    {
      "cell_type": "code",
      "source": [
        "# Normalize data\n",
        "input_train = input_train / 255\n",
        "input_test = input_test / 255"
      ],
      "metadata": {
        "id": "25hgjmECWNN6"
      },
      "execution_count": null,
      "outputs": []
    },
    {
      "cell_type": "code",
      "source": [
        "# Create the model\n",
        "model = Sequential()\n",
        "model.add(Conv2D(32, kernel_size=(3, 3), activation='relu', input_shape=input_shape))\n",
        "model.add(MaxPooling2D(pool_size=(2, 2)))\n",
        "model.add(Conv2D(64, kernel_size=(3, 3), activation='relu'))\n",
        "model.add(MaxPooling2D(pool_size=(2, 2)))\n",
        "model.add(Flatten())\n",
        "model.add(Dense(256, activation='relu'))\n",
        "model.add(Dense(128, activation='relu'))\n",
        "model.add(Dense(no_classes, activation='softmax'))"
      ],
      "metadata": {
        "id": "D1wyKT38WPjb"
      },
      "execution_count": null,
      "outputs": []
    },
    {
      "cell_type": "code",
      "source": [
        "model.summary()"
      ],
      "metadata": {
        "colab": {
          "base_uri": "https://localhost:8080/"
        },
        "id": "rWOcyeQGWSel",
        "outputId": "eed3afb4-ce56-465b-9b3b-2fc16a5f2e95"
      },
      "execution_count": null,
      "outputs": [
        {
          "output_type": "stream",
          "name": "stdout",
          "text": [
            "Model: \"sequential\"\n",
            "_________________________________________________________________\n",
            " Layer (type)                Output Shape              Param #   \n",
            "=================================================================\n",
            " conv2d (Conv2D)             (None, 30, 30, 32)        896       \n",
            "                                                                 \n",
            " max_pooling2d (MaxPooling2  (None, 15, 15, 32)        0         \n",
            " D)                                                              \n",
            "                                                                 \n",
            " conv2d_1 (Conv2D)           (None, 13, 13, 64)        18496     \n",
            "                                                                 \n",
            " max_pooling2d_1 (MaxPoolin  (None, 6, 6, 64)          0         \n",
            " g2D)                                                            \n",
            "                                                                 \n",
            " flatten (Flatten)           (None, 2304)              0         \n",
            "                                                                 \n",
            " dense (Dense)               (None, 256)               590080    \n",
            "                                                                 \n",
            " dense_1 (Dense)             (None, 128)               32896     \n",
            "                                                                 \n",
            " dense_2 (Dense)             (None, 100)               12900     \n",
            "                                                                 \n",
            "=================================================================\n",
            "Total params: 655268 (2.50 MB)\n",
            "Trainable params: 655268 (2.50 MB)\n",
            "Non-trainable params: 0 (0.00 Byte)\n",
            "_________________________________________________________________\n"
          ]
        }
      ]
    },
    {
      "cell_type": "code",
      "source": [
        "# Compile the model\n",
        "model.compile(loss=loss_function, optimizer=optimizer,metrics=['accuracy'])"
      ],
      "metadata": {
        "id": "71ZisyH9WTNL"
      },
      "execution_count": null,
      "outputs": []
    },
    {
      "cell_type": "code",
      "source": [
        "# Fit data to model (this will take little time to train)\n",
        "history = model.fit(input_train, target_train, batch_size=batch_size, epochs=no_epochs, verbose=verbosity)"
      ],
      "metadata": {
        "colab": {
          "base_uri": "https://localhost:8080/"
        },
        "id": "l4MsgWvaWVXS",
        "outputId": "fdeb4db1-ae4c-4b79-9959-31b08b89edf5"
      },
      "execution_count": null,
      "outputs": [
        {
          "output_type": "stream",
          "name": "stdout",
          "text": [
            "Epoch 1/10\n",
            "1000/1000 [==============================] - 67s 66ms/step - loss: 1.5353 - accuracy: 0.4481\n",
            "Epoch 2/10\n",
            "1000/1000 [==============================] - 65s 65ms/step - loss: 1.1165 - accuracy: 0.6054\n",
            "Epoch 3/10\n",
            "1000/1000 [==============================] - 66s 66ms/step - loss: 0.9352 - accuracy: 0.6731\n",
            "Epoch 4/10\n",
            "1000/1000 [==============================] - 65s 65ms/step - loss: 0.8131 - accuracy: 0.7155\n",
            "Epoch 5/10\n",
            "1000/1000 [==============================] - 65s 65ms/step - loss: 0.7059 - accuracy: 0.7518\n",
            "Epoch 6/10\n",
            "1000/1000 [==============================] - 87s 87ms/step - loss: 0.6167 - accuracy: 0.7840\n",
            "Epoch 7/10\n",
            "1000/1000 [==============================] - 65s 65ms/step - loss: 0.5308 - accuracy: 0.8118\n",
            "Epoch 8/10\n",
            "1000/1000 [==============================] - 71s 71ms/step - loss: 0.4459 - accuracy: 0.8426\n",
            "Epoch 9/10\n",
            "1000/1000 [==============================] - 67s 66ms/step - loss: 0.3679 - accuracy: 0.8711\n",
            "Epoch 10/10\n",
            "1000/1000 [==============================] - 62s 62ms/step - loss: 0.3054 - accuracy: 0.8920\n"
          ]
        }
      ]
    },
    {
      "cell_type": "code",
      "source": [
        "# Generate generalization metrics\n",
        "score = model.evaluate(input_test, target_test, verbose=0)\n",
        "print(f'Test loss: {score[0]} / Test accuracy: {score[1]}')"
      ],
      "metadata": {
        "colab": {
          "base_uri": "https://localhost:8080/"
        },
        "id": "gog40IlgWYjl",
        "outputId": "6b4dc419-bf36-49cd-a74d-4fbf6b6e3db8"
      },
      "execution_count": null,
      "outputs": [
        {
          "output_type": "stream",
          "name": "stdout",
          "text": [
            "Test loss: 1.137102484703064 / Test accuracy: 0.6966999769210815\n"
          ]
        }
      ]
    },
    {
      "cell_type": "code",
      "source": [
        "# Visualize history\n",
        "# Plot history: Loss\n",
        "plt.plot(history.history['loss'])\n",
        "plt.title('Validation loss history')\n",
        "plt.ylabel('Loss value')\n",
        "plt.xlabel('No. epoch')\n",
        "plt.show()"
      ],
      "metadata": {
        "colab": {
          "base_uri": "https://localhost:8080/",
          "height": 472
        },
        "id": "tDhOxzq6Xmzz",
        "outputId": "d6a2fe4b-d272-4a48-d183-52dea5f4e09a"
      },
      "execution_count": null,
      "outputs": [
        {
          "output_type": "display_data",
          "data": {
            "text/plain": [
              "<Figure size 640x480 with 1 Axes>"
            ],
            "image/png": "[encoded data removed]"
          },
          "metadata": {}
        }
      ]
    },
    {
      "cell_type": "code",
      "source": [
        "# Plot history: Accuracy\n",
        "plt.plot(history.history['accuracy'])\n",
        "plt.title('Validation accuracy history')\n",
        "plt.ylabel('Accuracy value (%)')\n",
        "plt.xlabel('No. epoch')\n",
        "plt.show()"
      ],
      "metadata": {
        "colab": {
          "base_uri": "https://localhost:8080/",
          "height": 472
        },
        "id": "W4jFAeryXo-a",
        "outputId": "752c7d37-02bb-4652-fee1-12c26bb927f5"
      },
      "execution_count": null,
      "outputs": [
        {
          "output_type": "display_data",
          "data": {
            "text/plain": [
              "<Figure size 640x480 with 1 Axes>"
            ],
            "image/png": "[encoded data removed]"
          },
          "metadata": {}
        }
      ]
    },
    {
      "cell_type": "code",
      "source": [
        "# By Adding k fold cross validation\n",
        "from tensorflow.keras.datasets import cifar10\n",
        "from tensorflow.keras.models import Sequential\n",
        "from tensorflow.keras.layers import Dense, Flatten, Conv2D, MaxPooling2D\n",
        "from tensorflow.keras.losses import sparse_categorical_crossentropy\n",
        "from tensorflow.keras.optimizers import Adam\n",
        "from sklearn.model_selection import KFold\n",
        "KFold\n",
        "import numpy as np\n",
        "\n",
        "# Model configuration\n",
        "batch_size = 50\n",
        "img_width, img_height, img_num_channels = 32, 32, 3\n",
        "loss_function = sparse_categorical_crossentropy\n",
        "no_classes = 100\n",
        "no_epochs = 10\n",
        "optimizer = Adam()\n",
        "verbosity = 1\n",
        "num_folds = 5\n",
        "\n",
        "# Load CIFAR-10 data\n",
        "(input_train, target_train), (input_test, target_test) = cifar10.load_data()\n",
        "\n",
        "# Determine shape of the data\n",
        "input_shape = (img_width, img_height, img_num_channels)\n",
        "\n",
        "# Parse numbers as floats\n",
        "input_train = input_train.astype('float32')\n",
        "input_test = input_test.astype('float32')\n",
        "\n",
        "# Normalize data\n",
        "input_train = input_train / 255\n",
        "input_test = input_test / 255\n",
        "\n",
        "# Define per-fold score containers\n",
        "acc_per_fold = []\n",
        "loss_per_fold = []\n",
        "\n",
        "# Merge inputs and targets\n",
        "inputs = np.concatenate((input_train, input_test), axis=0)\n",
        "targets = np.concatenate((target_train, target_test), axis=0)\n",
        "\n",
        "# Define the K-fold Cross Validator\n",
        "kfold = KFold(n_splits=num_folds, shuffle=True)"
      ],
      "metadata": {
        "id": "EcdVI18RXq4z"
      },
      "execution_count": null,
      "outputs": []
    },
    {
      "cell_type": "code",
      "source": [
        "# K-fold Cross Validation model evaluation\n",
        "fold_no = 1\n",
        "\n",
        "for train, test in kfold.split(inputs, targets):\n",
        "\n",
        "  # Define the model architecture\n",
        "  model = Sequential()\n",
        "  model.add(Conv2D(32, kernel_size=(3, 3), activation='relu', input_shape=input_shape))\n",
        "  model.add(MaxPooling2D(pool_size=(2, 2)))\n",
        "  model.add(Conv2D(64, kernel_size=(3, 3), activation='relu'))\n",
        "  model.add(MaxPooling2D(pool_size=(2, 2)))\n",
        "  model.add(Flatten())\n",
        "  model.add(Dense(256, activation='relu'))\n",
        "  model.add(Dense(128, activation='relu'))\n",
        "  model.add(Dense(no_classes, activation='softmax'))\n",
        "\n",
        "  # Compile the model\n",
        "  model.compile(loss=loss_function,\n",
        "                optimizer=optimizer,\n",
        "                metrics=['accuracy'])\n",
        "\n",
        "  # Generate a print\n",
        "  print('------------------------------------------------------------------------')\n",
        "  print(f'Training for fold {fold_no} ...')\n",
        "\n",
        "  # Fit data to model\n",
        "  history = model.fit(inputs[train], targets[train],\n",
        "              batch_size=batch_size,\n",
        "              epochs=no_epochs,\n",
        "              verbose=verbosity)\n",
        "\n",
        "  # Generate generalization metrics\n",
        "  scores = model.evaluate(inputs[test], targets[test], verbose=0)\n",
        "  print(f'Score for fold {fold_no}: {model.metrics_names[0]} of {scores[0]}; {model.metrics_names[1]} of {scores[1]*100}%')\n",
        "  acc_per_fold.append(scores[1] * 100)\n",
        "  loss_per_fold.append(scores[0])\n",
        "\n",
        "  # Increase fold number\n",
        "  fold_no = fold_no + 1"
      ],
      "metadata": {
        "colab": {
          "base_uri": "https://localhost:8080/"
        },
        "id": "K5VO9iVbXvih",
        "outputId": "afc611d5-212a-4522-f246-037346b54d8b"
      },
      "execution_count": null,
      "outputs": [
        {
          "output_type": "stream",
          "name": "stdout",
          "text": [
            "------------------------------------------------------------------------\n",
            "Training for fold 1 ...\n",
            "Epoch 1/10\n",
            "960/960 [==============================] - 71s 73ms/step - loss: 1.5497 - accuracy: 0.4419\n",
            "Epoch 2/10\n",
            "960/960 [==============================] - 71s 74ms/step - loss: 1.1217 - accuracy: 0.6035\n",
            "Epoch 3/10\n",
            "960/960 [==============================] - 72s 75ms/step - loss: 0.9531 - accuracy: 0.6672\n",
            "Epoch 4/10\n",
            "960/960 [==============================] - 70s 73ms/step - loss: 0.8358 - accuracy: 0.7075\n",
            "Epoch 5/10\n",
            "960/960 [==============================] - 69s 72ms/step - loss: 0.7359 - accuracy: 0.7411\n",
            "Epoch 6/10\n",
            "960/960 [==============================] - 73s 76ms/step - loss: 0.6461 - accuracy: 0.7727\n",
            "Epoch 7/10\n",
            "960/960 [==============================] - 68s 70ms/step - loss: 0.5593 - accuracy: 0.8024\n",
            "Epoch 8/10\n",
            "960/960 [==============================] - 69s 72ms/step - loss: 0.4746 - accuracy: 0.8320\n",
            "Epoch 9/10\n",
            "960/960 [==============================] - 69s 72ms/step - loss: 0.4027 - accuracy: 0.8556\n",
            "Epoch 10/10\n",
            "960/960 [==============================] - 68s 71ms/step - loss: 0.3315 - accuracy: 0.8819\n",
            "Score for fold 1: loss of 1.1447182893753052; accuracy of 69.01666522026062%\n",
            "------------------------------------------------------------------------\n",
            "Training for fold 2 ...\n",
            "Epoch 1/10\n",
            "960/960 [==============================] - 67s 69ms/step - loss: 1.4946 - accuracy: 0.4574\n",
            "Epoch 2/10\n",
            "960/960 [==============================] - 66s 69ms/step - loss: 1.0824 - accuracy: 0.6143\n",
            "Epoch 3/10\n",
            "960/960 [==============================] - 67s 70ms/step - loss: 0.9355 - accuracy: 0.6705\n",
            "Epoch 4/10\n",
            "960/960 [==============================] - 65s 68ms/step - loss: 0.8318 - accuracy: 0.7074\n",
            "Epoch 5/10\n",
            "960/960 [==============================] - 71s 74ms/step - loss: 0.7579 - accuracy: 0.7330\n",
            "Epoch 6/10\n",
            "960/960 [==============================] - 66s 69ms/step - loss: 0.6879 - accuracy: 0.7597\n",
            "Epoch 7/10\n",
            "960/960 [==============================] - 68s 71ms/step - loss: 0.6271 - accuracy: 0.7802\n",
            "Epoch 8/10\n",
            "960/960 [==============================] - 69s 72ms/step - loss: 0.5677 - accuracy: 0.8015\n",
            "Epoch 9/10\n",
            "960/960 [==============================] - 68s 71ms/step - loss: 0.5144 - accuracy: 0.8185\n",
            "Epoch 10/10\n",
            "960/960 [==============================] - 66s 69ms/step - loss: 0.4610 - accuracy: 0.8378\n",
            "Score for fold 2: loss of 0.9815402030944824; accuracy of 70.333331823349%\n",
            "------------------------------------------------------------------------\n",
            "Training for fold 3 ...\n",
            "Epoch 1/10\n",
            "960/960 [==============================] - 68s 70ms/step - loss: 1.7482 - accuracy: 0.3514\n",
            "Epoch 2/10\n",
            "960/960 [==============================] - 67s 70ms/step - loss: 1.3000 - accuracy: 0.5319\n",
            "Epoch 3/10\n",
            "960/960 [==============================] - 68s 71ms/step - loss: 1.1235 - accuracy: 0.6001\n",
            "Epoch 4/10\n",
            "960/960 [==============================] - 70s 73ms/step - loss: 1.0199 - accuracy: 0.6381\n",
            "Epoch 5/10\n",
            "960/960 [==============================] - 69s 72ms/step - loss: 0.9427 - accuracy: 0.6674\n",
            "Epoch 6/10\n",
            "960/960 [==============================] - 66s 69ms/step - loss: 0.8764 - accuracy: 0.6916\n",
            "Epoch 7/10\n",
            "960/960 [==============================] - 66s 69ms/step - loss: 0.8204 - accuracy: 0.7114\n",
            "Epoch 8/10\n",
            "960/960 [==============================] - 68s 70ms/step - loss: 0.7683 - accuracy: 0.7293\n",
            "Epoch 9/10\n",
            "960/960 [==============================] - 66s 69ms/step - loss: 0.7147 - accuracy: 0.7476\n",
            "Epoch 10/10\n",
            "960/960 [==============================] - 65s 68ms/step - loss: 0.6659 - accuracy: 0.7670\n",
            "Score for fold 3: loss of 0.9777575135231018; accuracy of 67.64166951179504%\n",
            "------------------------------------------------------------------------\n",
            "Training for fold 4 ...\n",
            "Epoch 1/10\n",
            "960/960 [==============================] - 66s 68ms/step - loss: 1.5605 - accuracy: 0.4300\n",
            "Epoch 2/10\n",
            "960/960 [==============================] - 67s 69ms/step - loss: 1.1548 - accuracy: 0.5909\n",
            "Epoch 3/10\n",
            "960/960 [==============================] - 72s 75ms/step - loss: 1.0053 - accuracy: 0.6465\n",
            "Epoch 4/10\n",
            "960/960 [==============================] - 68s 71ms/step - loss: 0.9051 - accuracy: 0.6813\n",
            "Epoch 5/10\n",
            "960/960 [==============================] - 67s 70ms/step - loss: 0.8169 - accuracy: 0.7136\n",
            "Epoch 6/10\n",
            "960/960 [==============================] - 69s 71ms/step - loss: 0.7510 - accuracy: 0.7357\n",
            "Epoch 7/10\n",
            "960/960 [==============================] - 66s 69ms/step - loss: 0.6871 - accuracy: 0.7579\n",
            "Epoch 8/10\n",
            "960/960 [==============================] - 68s 71ms/step - loss: 0.6304 - accuracy: 0.7791\n",
            "Epoch 9/10\n",
            "960/960 [==============================] - 67s 70ms/step - loss: 0.5766 - accuracy: 0.7966\n",
            "Epoch 10/10\n",
            "960/960 [==============================] - 68s 71ms/step - loss: 0.5261 - accuracy: 0.8164\n",
            "Score for fold 4: loss of 0.9539607167243958; accuracy of 69.25833225250244%\n",
            "------------------------------------------------------------------------\n",
            "Training for fold 5 ...\n",
            "Epoch 1/10\n",
            "960/960 [==============================] - 67s 69ms/step - loss: 1.5813 - accuracy: 0.4209\n",
            "Epoch 2/10\n",
            "960/960 [==============================] - 73s 76ms/step - loss: 1.2035 - accuracy: 0.5685\n",
            "Epoch 3/10\n",
            "960/960 [==============================] - 68s 70ms/step - loss: 1.0382 - accuracy: 0.6306\n",
            "Epoch 4/10\n",
            "960/960 [==============================] - 68s 71ms/step - loss: 0.9473 - accuracy: 0.6646\n",
            "Epoch 5/10\n",
            "960/960 [==============================] - 66s 68ms/step - loss: 0.8742 - accuracy: 0.6905\n",
            "Epoch 6/10\n",
            "960/960 [==============================] - 66s 69ms/step - loss: 0.8167 - accuracy: 0.7120\n",
            "Epoch 7/10\n",
            "960/960 [==============================] - 69s 71ms/step - loss: 0.7613 - accuracy: 0.7337\n",
            "Epoch 8/10\n",
            "960/960 [==============================] - 66s 69ms/step - loss: 0.7087 - accuracy: 0.7507\n",
            "Epoch 9/10\n",
            "960/960 [==============================] - 68s 71ms/step - loss: 0.6611 - accuracy: 0.7652\n",
            "Epoch 10/10\n",
            "960/960 [==============================] - 67s 70ms/step - loss: 0.6132 - accuracy: 0.7837\n",
            "Score for fold 5: loss of 0.9543024301528931; accuracy of 68.57500076293945%\n"
          ]
        }
      ]
    },
    {
      "cell_type": "code",
      "source": [
        "# == Provide average scores ==\n",
        "print('------------------------------------------------------------------------')\n",
        "print('Score per fold')\n",
        "for i in range(0, len(acc_per_fold)):\n",
        "  print('------------------------------------------------------------------------')\n",
        "  print(f'> Fold {i+1} - Loss: {loss_per_fold[i]} - Accuracy: {acc_per_fold[i]}%')\n",
        "print('------------------------------------------------------------------------')\n",
        "print('Average scores for all folds:')\n",
        "print(f'> Accuracy: {np.mean(acc_per_fold)} (+- {np.std(acc_per_fold)})')\n",
        "print(f'> Loss: {np.mean(loss_per_fold)}')\n",
        "print('------------------------------------------------------------------------')"
      ],
      "metadata": {
        "colab": {
          "base_uri": "https://localhost:8080/"
        },
        "id": "PvdomxkTXzkj",
        "outputId": "50e65bbb-af72-4533-d693-99d1439e31f9"
      },
      "execution_count": null,
      "outputs": [
        {
          "output_type": "stream",
          "name": "stdout",
          "text": [
            "------------------------------------------------------------------------\n",
            "Score per fold\n",
            "------------------------------------------------------------------------\n",
            "> Fold 1 - Loss: 1.1447182893753052 - Accuracy: 69.01666522026062%\n",
            "------------------------------------------------------------------------\n",
            "> Fold 2 - Loss: 0.9815402030944824 - Accuracy: 70.333331823349%\n",
            "------------------------------------------------------------------------\n",
            "> Fold 3 - Loss: 0.9777575135231018 - Accuracy: 67.64166951179504%\n",
            "------------------------------------------------------------------------\n",
            "> Fold 4 - Loss: 0.9539607167243958 - Accuracy: 69.25833225250244%\n",
            "------------------------------------------------------------------------\n",
            "> Fold 5 - Loss: 0.9543024301528931 - Accuracy: 68.57500076293945%\n",
            "------------------------------------------------------------------------\n",
            "Average scores for all folds:\n",
            "> Accuracy: 68.96499991416931 (+- 0.8791300324813014)\n",
            "> Loss: 1.0024558305740356\n",
            "------------------------------------------------------------------------\n"
          ]
        }
      ]
    }
  ]
}